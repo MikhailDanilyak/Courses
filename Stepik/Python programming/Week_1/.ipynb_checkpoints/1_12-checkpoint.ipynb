{
 "cells": [
  {
   "cell_type": "markdown",
   "metadata": {},
   "source": [
    "# Задача 1.12.1"
   ]
  },
  {
   "cell_type": "code",
   "execution_count": 4,
   "metadata": {},
   "outputs": [
    {
     "name": "stdout",
     "output_type": "stream",
     "text": [
      "3\n",
      "4\n",
      "5\n",
      "6.0\n"
     ]
    }
   ],
   "source": [
    "a = int(input())\n",
    "b = int(input())\n",
    "c = int(input())\n",
    "p = (a + b + c) / 2\n",
    "square = (p * (p - a) * (p - b) * (p - c)) ** 0.5\n",
    "print (square)"
   ]
  },
  {
   "cell_type": "markdown",
   "metadata": {},
   "source": [
    "# Задача 1.12.2"
   ]
  },
  {
   "cell_type": "code",
   "execution_count": 7,
   "metadata": {},
   "outputs": [
    {
     "name": "stdout",
     "output_type": "stream",
     "text": [
      "-20\n",
      "False\n"
     ]
    }
   ],
   "source": [
    "number = int(input())\n",
    "if (number > -15 and number <= 12) or (number > 14 and number < 17) or (number >= 19):\n",
    "    print(\"True\")\n",
    "else:\n",
    "    print(\"False\")"
   ]
  },
  {
   "cell_type": "markdown",
   "metadata": {},
   "source": [
    "# Задача 1.12.3"
   ]
  },
  {
   "cell_type": "code",
   "execution_count": 12,
   "metadata": {},
   "outputs": [
    {
     "name": "stdout",
     "output_type": "stream",
     "text": [
      "5.0\n",
      "10.0\n",
      "/\n",
      "0.5\n"
     ]
    }
   ],
   "source": [
    "a = float(input())\n",
    "b = float(input())\n",
    "operation = input()\n",
    "\n",
    "if operation == \"+\":\n",
    "    print(a + b)\n",
    "elif operation == \"-\":\n",
    "    print(a - b)\n",
    "elif operation == \"/\":\n",
    "    if b == 0 or b == 0.0:\n",
    "        print(\"Деление на 0!\")\n",
    "    else:\n",
    "        print(a / b)\n",
    "elif operation == \"*\":\n",
    "    print(a * b)\n",
    "elif operation == \"mod\":\n",
    "    if b == 0 or b == 0.0:\n",
    "        print(\"Деление на 0!\")\n",
    "    else:\n",
    "        print(a % b)\n",
    "elif operation == \"pow\":\n",
    "    print(a ** b)\n",
    "elif operation == \"div\":\n",
    "    if b == 0 or b == 0.0:\n",
    "        print(\"Деление на 0!\")\n",
    "    else:\n",
    "        print(a // b)"
   ]
  },
  {
   "cell_type": "markdown",
   "metadata": {},
   "source": [
    "# Задача 1.12.4"
   ]
  },
  {
   "cell_type": "code",
   "execution_count": 17,
   "metadata": {},
   "outputs": [
    {
     "name": "stdout",
     "output_type": "stream",
     "text": [
      "прямоугольник\n",
      "4\n",
      "10\n",
      "40\n"
     ]
    }
   ],
   "source": [
    "figure_type = input()\n",
    "if figure_type == \"треугольник\":\n",
    "    a = int(input())\n",
    "    b = int(input())\n",
    "    c = int(input())\n",
    "    p = (a + b + c) / 2\n",
    "    square = float((p * (p - a) * (p - b) * (p - c)) ** 0.5)\n",
    "elif figure_type == \"прямоугольник\":\n",
    "    a = int(input())\n",
    "    b = int(input())\n",
    "    square = float(a * b)\n",
    "else:\n",
    "    r = int(input())\n",
    "    square = float(3.14 * r ** 2)\n",
    "print(square)"
   ]
  },
  {
   "cell_type": "markdown",
   "metadata": {},
   "source": [
    "# Задача 1.12.5"
   ]
  },
  {
   "cell_type": "code",
   "execution_count": 22,
   "metadata": {},
   "outputs": [
    {
     "name": "stdout",
     "output_type": "stream",
     "text": [
      "5\n",
      "6\n",
      "7\n",
      "7\n",
      "5\n",
      "6\n"
     ]
    }
   ],
   "source": [
    "a = int(input())\n",
    "b = int(input())\n",
    "c = int(input())\n",
    "\n",
    "mylist = [a, b ,c]\n",
    "print(max(mylist))\n",
    "mylist.remove(max(mylist))\n",
    "print(min(mylist))\n",
    "mylist.remove(min(mylist))\n",
    "print(mylist[0])"
   ]
  },
  {
   "cell_type": "markdown",
   "metadata": {},
   "source": [
    "# Задача 1.12.6"
   ]
  },
  {
   "cell_type": "code",
   "execution_count": 36,
   "metadata": {},
   "outputs": [
    {
     "name": "stdout",
     "output_type": "stream",
     "text": [
      "31\n",
      "31  программист\n"
     ]
    }
   ],
   "source": [
    "number = int(input())\n",
    "if (number % 100 // 10 == 1) or (number % 10 in (5, 6, 7, 8, 9, 0)):\n",
    "    print(number, \" программистов\")\n",
    "elif number % 10 in (2, 3, 4):\n",
    "    print(number, \" программиста\")\n",
    "else:\n",
    "    print(number, \" программист\")"
   ]
  },
  {
   "cell_type": "markdown",
   "metadata": {},
   "source": [
    "# Задача 1.12.7"
   ]
  },
  {
   "cell_type": "code",
   "execution_count": 42,
   "metadata": {},
   "outputs": [
    {
     "name": "stdout",
     "output_type": "stream",
     "text": [
      "090234\n",
      "Счастливый\n"
     ]
    }
   ],
   "source": [
    "number = input()\n",
    "first_sum = int(number[0]) + int(number[1]) + int(number[2])\n",
    "second_sum = int(number[3]) + int(number[4]) + int(number[5])\n",
    "if first_sum == second_sum:\n",
    "    print(\"Счастливый\")\n",
    "else:\n",
    "    print(\"Обычный\")"
   ]
  },
  {
   "cell_type": "code",
   "execution_count": null,
   "metadata": {},
   "outputs": [],
   "source": []
  }
 ],
 "metadata": {
  "kernelspec": {
   "display_name": "Python 3",
   "language": "python",
   "name": "python3"
  },
  "language_info": {
   "codemirror_mode": {
    "name": "ipython",
    "version": 3
   },
   "file_extension": ".py",
   "mimetype": "text/x-python",
   "name": "python",
   "nbconvert_exporter": "python",
   "pygments_lexer": "ipython3",
   "version": "3.7.6"
  },
  "latex_envs": {
   "LaTeX_envs_menu_present": true,
   "autoclose": false,
   "autocomplete": true,
   "bibliofile": "biblio.bib",
   "cite_by": "apalike",
   "current_citInitial": 1,
   "eqLabelWithNumbers": true,
   "eqNumInitial": 1,
   "hotkeys": {
    "equation": "Ctrl-E",
    "itemize": "Ctrl-I"
   },
   "labels_anchors": false,
   "latex_user_defs": false,
   "report_style_numbering": false,
   "user_envs_cfg": false
  }
 },
 "nbformat": 4,
 "nbformat_minor": 4
}
