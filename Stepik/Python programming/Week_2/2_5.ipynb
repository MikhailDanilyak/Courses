{
 "cells": [
  {
   "cell_type": "code",
   "execution_count": 4,
   "metadata": {},
   "outputs": [
    {
     "name": "stdout",
     "output_type": "stream",
     "text": [
      "['Ivan', 'Masha', 'Sasha']\n",
      "['Ivan', 'Masha', 'Sasha', 'Olga']\n",
      "['Ivan', 'Masha', 'Sasha', 'Olga', 'O', 'l', 'g', 'a']\n",
      "8\n"
     ]
    }
   ],
   "source": [
    "students = ['Ivan', 'Masha', 'Sasha']\n",
    "print(students)\n",
    "students += ['Olga']\n",
    "print(students)\n",
    "students += 'Olga'\n",
    "print(students)\n",
    "print(len(students))"
   ]
  },
  {
   "cell_type": "code",
   "execution_count": 5,
   "metadata": {},
   "outputs": [
    {
     "name": "stdout",
     "output_type": "stream",
     "text": [
      "[1, 2, 3]\n",
      "[1, 10, 3]\n",
      "[20, 10, 3]\n",
      "[20, 10, 3]\n"
     ]
    }
   ],
   "source": [
    "a = [1, 2, 3]\n",
    "b = a\n",
    "# значения списка b?\n",
    "print(b)\n",
    "a[1] = 10\n",
    "# значения списка b?\n",
    "print(b)\n",
    "b[0] = 20\n",
    "# значения списка a?\n",
    "print(a)\n",
    "a = [5, 6]\n",
    "# значения списка b?\n",
    "print(b)"
   ]
  },
  {
   "cell_type": "markdown",
   "metadata": {},
   "source": [
    "# Задание 2.5.1"
   ]
  },
  {
   "cell_type": "code",
   "execution_count": 9,
   "metadata": {},
   "outputs": [
    {
     "name": "stdout",
     "output_type": "stream",
     "text": [
      "1 2 3 4 5\n",
      "15\n"
     ]
    }
   ],
   "source": [
    "mylist = []\n",
    "for i in input().split():\n",
    "    mylist.append(int(i))\n",
    "print(sum(mylist))"
   ]
  },
  {
   "cell_type": "markdown",
   "metadata": {},
   "source": [
    "# Задание 2.5.2"
   ]
  },
  {
   "cell_type": "code",
   "execution_count": 19,
   "metadata": {},
   "outputs": [
    {
     "name": "stdout",
     "output_type": "stream",
     "text": [
      "10\n",
      "10\n"
     ]
    }
   ],
   "source": [
    "mylist = []\n",
    "for i in input().split():\n",
    "    mylist.append(int(i))\n",
    "for i in range(0, len(mylist)):\n",
    "    if len(mylist) == 1:\n",
    "        print(mylist[i])\n",
    "    else:\n",
    "        previous_element = (i - 1) % len(mylist)\n",
    "        next_element = (i + 1) % len(mylist)\n",
    "        print(mylist[next_element] + mylist[previous_element], end = ' ')"
   ]
  },
  {
   "cell_type": "markdown",
   "metadata": {},
   "source": [
    "# Задание 2.5.3"
   ]
  },
  {
   "cell_type": "code",
   "execution_count": 17,
   "metadata": {},
   "outputs": [
    {
     "name": "stdout",
     "output_type": "stream",
     "text": [
      "1 4 4 4 6 6 6 8 8 8 9\n",
      "8 4 6 "
     ]
    }
   ],
   "source": [
    "mylist = []\n",
    "for i in input().split():\n",
    "    mylist.append(int(i))\n",
    "sorted_list = sorted(mylist)\n",
    "#print(sorted_list)\n",
    "new_list = list(set(sorted_list))\n",
    "#print(new_list)\n",
    "for element in new_list:\n",
    "    sorted_list.remove(element)\n",
    "sorted_list = list(set(sorted_list))\n",
    "#print(sorted_list)\n",
    "for element in sorted_list:\n",
    "    print(element,  end = ' ')"
   ]
  },
  {
   "cell_type": "code",
   "execution_count": null,
   "metadata": {},
   "outputs": [],
   "source": []
  }
 ],
 "metadata": {
  "kernelspec": {
   "display_name": "Python 3",
   "language": "python",
   "name": "python3"
  },
  "language_info": {
   "codemirror_mode": {
    "name": "ipython",
    "version": 3
   },
   "file_extension": ".py",
   "mimetype": "text/x-python",
   "name": "python",
   "nbconvert_exporter": "python",
   "pygments_lexer": "ipython3",
   "version": "3.7.6"
  },
  "latex_envs": {
   "LaTeX_envs_menu_present": true,
   "autoclose": false,
   "autocomplete": true,
   "bibliofile": "biblio.bib",
   "cite_by": "apalike",
   "current_citInitial": 1,
   "eqLabelWithNumbers": true,
   "eqNumInitial": 1,
   "hotkeys": {
    "equation": "Ctrl-E",
    "itemize": "Ctrl-I"
   },
   "labels_anchors": false,
   "latex_user_defs": false,
   "report_style_numbering": false,
   "user_envs_cfg": false
  }
 },
 "nbformat": 4,
 "nbformat_minor": 4
}
