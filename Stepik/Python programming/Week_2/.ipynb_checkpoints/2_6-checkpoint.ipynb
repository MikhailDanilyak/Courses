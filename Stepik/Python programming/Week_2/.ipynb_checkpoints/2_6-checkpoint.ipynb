{
 "cells": [
  {
   "cell_type": "markdown",
   "metadata": {},
   "source": [
    "# Задание 2.6.1"
   ]
  },
  {
   "cell_type": "code",
   "execution_count": null,
   "metadata": {},
   "outputs": [],
   "source": [
    "sum_of_elements = 0\n",
    "squared_sum = 0\n",
    "while True:\n",
    "    element = int(input())\n",
    "    sum_of_elements += element\n",
    "    squared_sum += element ** 2\n",
    "    if sum_of_elements == 0:\n",
    "        break\n",
    "print(squared_sum)"
   ]
  },
  {
   "cell_type": "markdown",
   "metadata": {},
   "source": [
    "# Задание 2.6.2 "
   ]
  },
  {
   "cell_type": "code",
   "execution_count": null,
   "metadata": {},
   "outputs": [],
   "source": [
    "n = int(input())\n",
    "mylist = []\n",
    "\n",
    "counter = 1\n",
    "length = 0\n",
    "while length < n:\n",
    "    length += counter\n",
    "    #print(length)\n",
    "    counter += 1\n",
    "#print(counter - 1, length)  \n",
    "for element in range(1, counter):\n",
    "    mylist += [element] * element\n",
    "for counter in range(0, n):\n",
    "    print(mylist[counter], end = ' ')"
   ]
  },
  {
   "cell_type": "markdown",
   "metadata": {},
   "source": [
    "# Задание 2.6.3"
   ]
  },
  {
   "cell_type": "code",
   "execution_count": null,
   "metadata": {},
   "outputs": [],
   "source": [
    "mylist = []\n",
    "for element in input().split():\n",
    "    mylist.append(int(element))\n",
    "number = int(input())\n",
    "\n",
    "if number not in mylist:\n",
    "    print(\"Отсутствует\")\n",
    "else:\n",
    "    for counter in range(0, len(mylist)):\n",
    "        if mylist[counter] == number:\n",
    "            print(counter, end = ' ')"
   ]
  },
  {
   "cell_type": "markdown",
   "metadata": {},
   "source": [
    "# Задание 2.6.4"
   ]
  },
  {
   "cell_type": "code",
   "execution_count": null,
   "metadata": {},
   "outputs": [],
   "source": [
    "mylist = []\n",
    "buffer_list = []\n",
    "while True:\n",
    "    line = input()\n",
    "    if line != \"end\":\n",
    "        buffer_list = []\n",
    "        for element in line.split():\n",
    "            buffer_list.append(int(element))\n",
    "        mylist.append(buffer_list)\n",
    "    else:\n",
    "        break\n",
    "#print(mylist)\n",
    "for i in range(0, len(mylist)):\n",
    "    for j in range(0, len(mylist[i])):\n",
    "        column_number = len(mylist[i])\n",
    "        row_number = len(mylist)\n",
    "        next_row = (i + 1) % row_number\n",
    "        previous_row = (i - 1) % row_number\n",
    "        next_column = (j + 1) % column_number\n",
    "        previous_column = (j - 1) % column_number\n",
    "       # print(previous_column, previous_row, next_row, next_column)\n",
    "        new_element = mylist[previous_row][j] + mylist[next_row][j] + mylist[i][next_column] + mylist[i][previous_column]\n",
    "        print(new_element, end = ' ')\n",
    "    print()"
   ]
  },
  {
   "cell_type": "markdown",
   "metadata": {},
   "source": [
    "# Задание 2.6.5"
   ]
  },
  {
   "cell_type": "code",
   "execution_count": 18,
   "metadata": {},
   "outputs": [
    {
     "name": "stdout",
     "output_type": "stream",
     "text": [
      "5\n",
      "\n",
      "1\t2\t3\t4\t5\t\n",
      "16\t17\t18\t19\t6\t\n",
      "15\t24\t25\t20\t7\t\n",
      "14\t23\t22\t21\t8\t\n",
      "13\t12\t11\t10\t9\t\n"
     ]
    }
   ],
   "source": [
    "# Ввод и генерация массива\n",
    "n = int(input())\n",
    "mylist = [] \n",
    "for i in range(0, n):\n",
    "    buffer_list = []\n",
    "    for j in range(0, n):\n",
    "        buffer_list.append(0)\n",
    "    mylist.append(buffer_list)\n",
    "'''    \n",
    "# Вывод массива    \n",
    "for i in range(0, n):\n",
    "    for j in range(0, n):\n",
    "        print(mylist[i][j], end = ' ')\n",
    "    print()\n",
    "'''\n",
    "# Выполняем обход по массиву\n",
    "i = 0 \n",
    "j = 0\n",
    "offset = 0\n",
    "counter = 1\n",
    "direction = \"right\"\n",
    "\n",
    "while counter <= n**2:\n",
    "    if direction == \"right\":\n",
    "        # Выполнение обхода вправо\n",
    "        for j in range(0 + offset, n - offset):\n",
    "            mylist[i][j] = counter\n",
    "            counter += 1\n",
    "        direction = \"down\"\n",
    "    if direction == \"down\":\n",
    "        # Выполнение обхода вниз\n",
    "        for i in range(1 + offset, n - offset):\n",
    "            mylist[i][j] = counter\n",
    "            counter += 1\n",
    "        direction = \"left\" \n",
    "    if direction == \"left\":\n",
    "        # Выполнение обхода влево\n",
    "        for j in range(n - 2 - offset, -1 + offset, -1):\n",
    "            mylist[i][j] = counter\n",
    "            counter += 1\n",
    "        direction = \"up\"\n",
    "    if direction == \"up\":\n",
    "        # Выполнение обхода вверх\n",
    "        for i in range(n - 2 - offset, offset, -1):\n",
    "            mylist[i][j] = counter\n",
    "            counter += 1\n",
    "        direction = \"right\" \n",
    "    offset += 1\n",
    "print()\n",
    "\n",
    "\n",
    "# Вывод массива    \n",
    "for i in range(0, n):\n",
    "    for j in range(0, n):\n",
    "        # Для проверочной системы\n",
    "        # print(mylist[i][j], end = ' ')\n",
    "        print(mylist[i][j], end = '\\t')\n",
    "    print()"
   ]
  }
 ],
 "metadata": {
  "kernelspec": {
   "display_name": "Python 3",
   "language": "python",
   "name": "python3"
  },
  "language_info": {
   "codemirror_mode": {
    "name": "ipython",
    "version": 3
   },
   "file_extension": ".py",
   "mimetype": "text/x-python",
   "name": "python",
   "nbconvert_exporter": "python",
   "pygments_lexer": "ipython3",
   "version": "3.7.6"
  },
  "latex_envs": {
   "LaTeX_envs_menu_present": true,
   "autoclose": false,
   "autocomplete": true,
   "bibliofile": "biblio.bib",
   "cite_by": "apalike",
   "current_citInitial": 1,
   "eqLabelWithNumbers": true,
   "eqNumInitial": 1,
   "hotkeys": {
    "equation": "Ctrl-E",
    "itemize": "Ctrl-I"
   },
   "labels_anchors": false,
   "latex_user_defs": false,
   "report_style_numbering": false,
   "user_envs_cfg": false
  }
 },
 "nbformat": 4,
 "nbformat_minor": 4
}
