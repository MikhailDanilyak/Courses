{
 "cells": [
  {
   "cell_type": "markdown",
   "metadata": {},
   "source": [
    "# Задание 3.7.1"
   ]
  },
  {
   "cell_type": "code",
   "execution_count": 39,
   "metadata": {},
   "outputs": [
    {
     "name": "stdout",
     "output_type": "stream",
     "text": [
      "3\n",
      "Спартак;8;Локомотив;15\n",
      "Спартак;9;Зенит;10\n",
      "Локомотив;12;Зенит;3\n",
      "Спартак: 2 0 0 2 0 \n",
      "Локомотив: 2 2 0 0 6 \n",
      "Зенит: 2 1 0 1 3 \n"
     ]
    }
   ],
   "source": [
    "n = int(input())\n",
    "buffer_list = []\n",
    "d = {}\n",
    "for counter in range(0, n):\n",
    "    buffer_list = input().split(';')\n",
    "    buffer_list[1] = int(buffer_list[1])\n",
    "    buffer_list[3] = int(buffer_list[3])\n",
    "    if buffer_list[0] not in d.keys():\n",
    "        d[buffer_list[0]] = [0] * 5\n",
    "    if buffer_list[2] not in d.keys():\n",
    "        d[buffer_list[2]] = [0] * 5\n",
    "  #  print(d)\n",
    "  #  print(buffer_list[1], buffer_list[3])\n",
    "    if buffer_list[1] < buffer_list[3]:\n",
    "       # print(\"1 lose 2 win\")\n",
    "        d[buffer_list[0]][0] += 1\n",
    "        d[buffer_list[2]][0] += 1\n",
    "        d[buffer_list[0]][3] += 1\n",
    "        d[buffer_list[2]][1] += 1\n",
    "        d[buffer_list[0]][4] += 0\n",
    "        d[buffer_list[2]][4] += 3\n",
    "    elif buffer_list[1] > buffer_list[3]:\n",
    "        #print(\"2 lose 1 win\")\n",
    "        d[buffer_list[0]][0] += 1\n",
    "        d[buffer_list[2]][0] += 1\n",
    "        d[buffer_list[0]][1] += 1\n",
    "        d[buffer_list[2]][3] += 1\n",
    "        d[buffer_list[0]][4] += 3\n",
    "        d[buffer_list[2]][4] += 0\n",
    "    elif buffer_list[1] == buffer_list[3]:\n",
    "      #  print(\"1 equal 2 \")\n",
    "        d[buffer_list[0]][0] += 1\n",
    "        d[buffer_list[2]][0] += 1\n",
    "        d[buffer_list[0]][2] += 1\n",
    "        d[buffer_list[2]][2] += 1\n",
    "        d[buffer_list[0]][4] += 1\n",
    "        d[buffer_list[2]][4] += 1  \n",
    "   # print(buffer_list)\n",
    "for key in d.keys():\n",
    "    print(key, end = ': ')\n",
    "    for element in d[key]:\n",
    "        print(element, end = ' ')\n",
    "    print()"
   ]
  },
  {
   "cell_type": "markdown",
   "metadata": {},
   "source": [
    "# Задание 3.7.2"
   ]
  },
  {
   "cell_type": "code",
   "execution_count": 46,
   "metadata": {},
   "outputs": [
    {
     "name": "stdout",
     "output_type": "stream",
     "text": [
      "abcd\n",
      "*d%#\n",
      "abacabadaba\n",
      "*d*%*d*#*d*\n",
      "#*%*d*%\n",
      "dacabac"
     ]
    }
   ],
   "source": [
    "def get_key(d, value):\n",
    "    for k, v in d.items():\n",
    "        if v == value:\n",
    "            return k\n",
    "\n",
    "cipher = {}\n",
    "line_1 = input()\n",
    "line_2 = input()\n",
    "\n",
    "for counter in range(0, len(line_1)):\n",
    "    cipher[line_1[counter]] = line_2[counter]\n",
    "#print(cipher)        \n",
    "\n",
    "line_3 = input()\n",
    "line_4 = input()\n",
    "\n",
    "for element in line_3:\n",
    "    print(cipher[element], end = '')\n",
    "print()    \n",
    "\n",
    "for element in line_4:\n",
    "    print(get_key(cipher, element), end = '')"
   ]
  },
  {
   "cell_type": "markdown",
   "metadata": {},
   "source": [
    "# Задание 3.7.3"
   ]
  },
  {
   "cell_type": "code",
   "execution_count": 55,
   "metadata": {},
   "outputs": [
    {
     "name": "stdout",
     "output_type": "stream",
     "text": [
      "2\n",
      "word\n",
      "oleg\n",
      "2\n",
      "wora\n",
      "oleg\n",
      "['word', 'oleg']\n",
      "['oleg']\n",
      "['wora']\n",
      "wora\n"
     ]
    }
   ],
   "source": [
    "d = int(input())\n",
    "known_dictionary = []\n",
    "error_dictionary = []\n",
    "\n",
    "for i in range(0, d):\n",
    "    known_dictionary.append(input().lower())\n",
    "    \n",
    "l = int(input())\n",
    "for j in range(0, l):\n",
    "    word_list = input().lower().split()\n",
    "    for element in word_list:\n",
    "        bollean = False\n",
    "        for word in known_dictionary:\n",
    "             if element == word:\n",
    "                    bollean = True\n",
    "        if bollean == False:\n",
    "            error_dictionary.append(element)\n",
    "#print(known_dictionary)\n",
    "#print(word_list)\n",
    "#print(error_dictionary)\n",
    "error_dictionary = set(error_dictionary)\n",
    "for element in error_dictionary:\n",
    "    print(element)"
   ]
  },
  {
   "cell_type": "markdown",
   "metadata": {},
   "source": [
    "# Задание 3.7.4"
   ]
  },
  {
   "cell_type": "code",
   "execution_count": 56,
   "metadata": {},
   "outputs": [
    {
     "name": "stdout",
     "output_type": "stream",
     "text": [
      "4\n",
      "север 10\n",
      "запад 20\n",
      "юг 30\n",
      "восток 40\n",
      "20 -20\n"
     ]
    }
   ],
   "source": [
    "n = int(input())\n",
    "coordinates = [0, 0]\n",
    "for i in range(0, n):\n",
    "    command = input().split()\n",
    "    if command[0] == \"север\":\n",
    "        coordinates[1] += int(command[1])\n",
    "    elif command[0] == \"юг\":\n",
    "        coordinates[1] -= int(command[1])\n",
    "    elif command[0] == \"запад\":\n",
    "        coordinates[0] -= int(command[1])\n",
    "    elif command[0] == \"восток\":\n",
    "        coordinates[0] += int(command[1])\n",
    "print(coordinates[0], coordinates[1])"
   ]
  },
  {
   "cell_type": "markdown",
   "metadata": {},
   "source": [
    "# Задание 3.7.5"
   ]
  },
  {
   "cell_type": "code",
   "execution_count": 80,
   "metadata": {},
   "outputs": [
    {
     "name": "stdout",
     "output_type": "stream",
     "text": [
      "1 125.28571428571429\n",
      "2 129.69230769230768\n",
      "3 135.33333333333334\n",
      "4 139.66666666666666\n",
      "5 150.0\n",
      "6 154.75\n",
      "7 161.83333333333334\n",
      "8 161.85714285714286\n",
      "9 170.0\n",
      "10 170.4\n",
      "11 173.25\n"
     ]
    }
   ],
   "source": [
    "dictionary = {}\n",
    "with open(\"dataset_3380_5.txt\", \"r\") as file:\n",
    "    for line in file.readlines():\n",
    "        buffer_list = []\n",
    "        height_list = line.split()\n",
    "      #  print(line.split())\n",
    "        #print(dictionary)\n",
    "        if int(height_list[0]) not in dictionary.keys():\n",
    "            dictionary[int(height_list[0])] = [int(height_list[2]), 1]\n",
    "        else:\n",
    "            dictionary[int(height_list[0])][0] += int(height_list[2])\n",
    "            dictionary[int(height_list[0])][1] += 1\n",
    "\n",
    "for i in range(1, 12):\n",
    "    if i in dictionary.keys():\n",
    "        print(i, dictionary[i][0] / dictionary[i][1])\n",
    "    else:\n",
    "        print(i, ' - ')"
   ]
  },
  {
   "cell_type": "code",
   "execution_count": null,
   "metadata": {},
   "outputs": [],
   "source": []
  }
 ],
 "metadata": {
  "kernelspec": {
   "display_name": "Python 3",
   "language": "python",
   "name": "python3"
  },
  "language_info": {
   "codemirror_mode": {
    "name": "ipython",
    "version": 3
   },
   "file_extension": ".py",
   "mimetype": "text/x-python",
   "name": "python",
   "nbconvert_exporter": "python",
   "pygments_lexer": "ipython3",
   "version": "3.7.6"
  },
  "latex_envs": {
   "LaTeX_envs_menu_present": true,
   "autoclose": false,
   "autocomplete": true,
   "bibliofile": "biblio.bib",
   "cite_by": "apalike",
   "current_citInitial": 1,
   "eqLabelWithNumbers": true,
   "eqNumInitial": 1,
   "hotkeys": {
    "equation": "Ctrl-E",
    "itemize": "Ctrl-I"
   },
   "labels_anchors": false,
   "latex_user_defs": false,
   "report_style_numbering": false,
   "user_envs_cfg": false
  }
 },
 "nbformat": 4,
 "nbformat_minor": 4
}
