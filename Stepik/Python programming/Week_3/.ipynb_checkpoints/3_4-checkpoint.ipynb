{
 "cells": [
  {
   "cell_type": "markdown",
   "metadata": {},
   "source": [
    "# Задание 3.4.1"
   ]
  },
  {
   "cell_type": "code",
   "execution_count": 35,
   "metadata": {},
   "outputs": [],
   "source": [
    "with open(\"dataset_3363_2.txt\", 'r') as file, open(\"output_file_3_4_1.txt\", \"w\") as output_file:\n",
    "    for line in file.readlines():\n",
    "       # print(line)\n",
    "        current_element = line[0]\n",
    "        we_in_number = True\n",
    "        number = \"\"\n",
    "        for i in range(1, len(line)):\n",
    "          #  print(line[i], number, current_element)\n",
    "            if line[i] in ('0', '1', '2', '3', '4', '5', '6', '7', '8', '9'):\n",
    "               # print(\"we in number\")\n",
    "                we_in_number = True\n",
    "                number += line[i]\n",
    "            elif line[i] not in ('0', '1', '2', '3', '4', '5', '6', '7', '8', '9') and line[i - 1] in ('0', '1', '2', '3', '4', '5', '6', '7', '8', '9') and we_in_number == True:\n",
    "                #print(\"we in word\", line[i], number, current_element, current_element * int(number))\n",
    "                output_file.write(current_element * int(number))\n",
    "                #print(current_element * int(number), end = '')\n",
    "                number = ''\n",
    "                current_element = line[i]\n",
    "                we_in_number = False"
   ]
  },
  {
   "cell_type": "markdown",
   "metadata": {},
   "source": [
    "# Задание 3.4.2"
   ]
  },
  {
   "cell_type": "code",
   "execution_count": 49,
   "metadata": {},
   "outputs": [],
   "source": [
    "def max_index(counter_list, list_of_words):\n",
    "    index = 0 \n",
    "    max_value = counter_list[0]\n",
    "    element = ''\n",
    "    for i in range(1, len(counter_list)):\n",
    "        if counter_list[i] > max_value:\n",
    "            max_value = counter_list[i]\n",
    "            index = i\n",
    "        elif counter_list[i] == max_value and list_of_words[i] < list_of_words[index]:\n",
    "            max_value = counter_list[i]\n",
    "            index = i\n",
    "    return index"
   ]
  },
  {
   "cell_type": "code",
   "execution_count": 65,
   "metadata": {},
   "outputs": [
    {
     "name": "stdout",
     "output_type": "stream",
     "text": [
      "a 7\n"
     ]
    }
   ],
   "source": [
    "counter_list = []\n",
    "counter = 0\n",
    "mylist = []\n",
    "with open(\"dataset_3363_3.txt\", 'r') as file, open(\"output_file_3_4_2.txt\", \"w\") as output_file:\n",
    "    for line in file.readlines():\n",
    "        for element in line.lower().split():\n",
    "            mylist.append(element)\n",
    "        list_of_set_of_mylist = list(set(mylist))\n",
    "        #print(list_of_set_of_mylist)\n",
    "    counter_list = [0] * len(list_of_set_of_mylist)\n",
    "    for element in list(list_of_set_of_mylist):\n",
    "        for word in mylist:\n",
    "            if word == element:\n",
    "                counter_list[counter] += 1\n",
    "        counter += 1\n",
    "    index = max_index(counter_list, list_of_set_of_mylist)\n",
    "    print(list_of_set_of_mylist[index], counter_list[index])\n",
    "    output_file.write(list_of_set_of_mylist[index] + \" \" + str(counter_list[index]))\n"
   ]
  },
  {
   "cell_type": "markdown",
   "metadata": {},
   "source": [
    "# Задание 3.4.3"
   ]
  },
  {
   "cell_type": "code",
   "execution_count": 76,
   "metadata": {},
   "outputs": [
    {
     "name": "stdout",
     "output_type": "stream",
     "text": [
      "85.0\n",
      "94.0\n",
      "71.66666666666667\n",
      "81.0 84.0 85.66666666666667\n"
     ]
    }
   ],
   "source": [
    "number_of_lines = 0\n",
    "sum_1 = 0\n",
    "sum_2 = 0\n",
    "sum_3 = 0\n",
    "buffer_list = []\n",
    "with open(\"dataset_3363_4.txt\", 'r') as file, open(\"output_file_3_4_2.txt\", \"w\") as output_file:\n",
    "    for line in file.readlines():\n",
    "        buffer_list = line.strip().split(';')\n",
    "        print((int(buffer_list[1]) + int(buffer_list[2]) + int(buffer_list[3])) / 3)\n",
    "        sum_1 += int(buffer_list[1])\n",
    "        sum_2 += int(buffer_list[2])\n",
    "        sum_3 += int(buffer_list[3])\n",
    "        number_of_lines += 1\n",
    "    print(sum_1 / number_of_lines, sum_2 / number_of_lines, sum_3 / number_of_lines)"
   ]
  },
  {
   "cell_type": "code",
   "execution_count": null,
   "metadata": {},
   "outputs": [],
   "source": []
  },
  {
   "cell_type": "code",
   "execution_count": null,
   "metadata": {},
   "outputs": [],
   "source": []
  }
 ],
 "metadata": {
  "kernelspec": {
   "display_name": "Python 3",
   "language": "python",
   "name": "python3"
  },
  "language_info": {
   "codemirror_mode": {
    "name": "ipython",
    "version": 3
   },
   "file_extension": ".py",
   "mimetype": "text/x-python",
   "name": "python",
   "nbconvert_exporter": "python",
   "pygments_lexer": "ipython3",
   "version": "3.7.6"
  },
  "latex_envs": {
   "LaTeX_envs_menu_present": true,
   "autoclose": false,
   "autocomplete": true,
   "bibliofile": "biblio.bib",
   "cite_by": "apalike",
   "current_citInitial": 1,
   "eqLabelWithNumbers": true,
   "eqNumInitial": 1,
   "hotkeys": {
    "equation": "Ctrl-E",
    "itemize": "Ctrl-I"
   },
   "labels_anchors": false,
   "latex_user_defs": false,
   "report_style_numbering": false,
   "user_envs_cfg": false
  }
 },
 "nbformat": 4,
 "nbformat_minor": 4
}
