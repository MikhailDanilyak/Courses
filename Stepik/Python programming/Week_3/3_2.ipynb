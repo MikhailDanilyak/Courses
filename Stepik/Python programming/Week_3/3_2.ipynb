{
 "cells": [
  {
   "cell_type": "markdown",
   "metadata": {},
   "source": [
    "# Задание 3.2.1"
   ]
  },
  {
   "cell_type": "code",
   "execution_count": 10,
   "metadata": {},
   "outputs": [],
   "source": [
    "def update_dictionary(d, key, value):\n",
    "    buffer_list = []\n",
    "    if key in d.keys():\n",
    "        buffer_list = d[key]\n",
    "        buffer_list.append(value)\n",
    "        d.update({key: buffer_list})\n",
    "    else:\n",
    "        if 2 * key in d.keys():\n",
    "            buffer_list = d[2 * key]\n",
    "            buffer_list.append(value)\n",
    "            d.update({2 * key: buffer_list})\n",
    "        else:\n",
    "            d.update({2 * key: [value]})"
   ]
  },
  {
   "cell_type": "code",
   "execution_count": 11,
   "metadata": {},
   "outputs": [
    {
     "name": "stdout",
     "output_type": "stream",
     "text": [
      "None\n",
      "{2: [-1]}\n",
      "{2: [-1, -2]}\n",
      "{2: [-1, -2, -3]}\n"
     ]
    }
   ],
   "source": [
    "d = {}\n",
    "print(update_dictionary(d, 1, -1))  # None\n",
    "print(d)                            # {2: [-1]}\n",
    "update_dictionary(d, 2, -2)\n",
    "print(d)                            # {2: [-1, -2]}\n",
    "update_dictionary(d, 1, -3)\n",
    "print(d) "
   ]
  },
  {
   "cell_type": "code",
   "execution_count": 12,
   "metadata": {},
   "outputs": [
    {
     "ename": "SyntaxError",
     "evalue": "invalid character in identifier (<ipython-input-12-3c74dc330d7d>, line 3)",
     "output_type": "error",
     "traceback": [
      "\u001b[0;36m  File \u001b[0;32m\"<ipython-input-12-3c74dc330d7d>\"\u001b[0;36m, line \u001b[0;32m3\u001b[0m\n\u001b[0;31m    print(x)\u001b[0m\n\u001b[0m                                       ^\u001b[0m\n\u001b[0;31mSyntaxError\u001b[0m\u001b[0;31m:\u001b[0m invalid character in identifier\n"
     ]
    }
   ],
   "source": [
    "x = {}\n",
    "update_dictionary(x, 0, -5)          \n",
    "print(x)                            \n",
    "update_dictionary(x, 1, -1)\n",
    "print(x)                             \n",
    "update_dictionary(x, 2, -2)\n",
    "print(x)                             \n",
    "update_dictionary(x, 3, -3)\n",
    "print(x) "
   ]
  },
  {
   "cell_type": "code",
   "execution_count": null,
   "metadata": {},
   "outputs": [],
   "source": [
    "print(type(-5))"
   ]
  },
  {
   "cell_type": "code",
   "execution_count": null,
   "metadata": {},
   "outputs": [],
   "source": [
    "buffer_list = []\n",
    "dictionary = {2: 2}\n",
    "buffer_list.append(dictionary[2])\n",
    "print(type(dictionary[2]))\n",
    "buffer_list.append(4)\n",
    "dictionary[2] = buffer_list\n",
    "\n",
    "print(dictionary[2])"
   ]
  },
  {
   "cell_type": "markdown",
   "metadata": {},
   "source": [
    "# Задание 3.2.2"
   ]
  },
  {
   "cell_type": "code",
   "execution_count": null,
   "metadata": {},
   "outputs": [],
   "source": [
    "list_of_words = input().lower().split()\n",
    "d = {}\n",
    "for element in sorted(list_of_words):\n",
    "    if element in d.keys():\n",
    "        d[element] += 1\n",
    "    else:\n",
    "        d[element] = 1\n",
    "for key, value in d.items():\n",
    "    print(key, value)\n",
    "#print(sorted(list_of_words))"
   ]
  },
  {
   "cell_type": "markdown",
   "metadata": {},
   "source": [
    "# Задание 3.2.3"
   ]
  },
  {
   "cell_type": "code",
   "execution_count": null,
   "metadata": {},
   "outputs": [],
   "source": [
    "def f(x):\n",
    "    if x <= -2:\n",
    "        return 1 - (x + 2) ** 2\n",
    "    elif -2 < x <= 2:\n",
    "        return -x / 2\n",
    "    else:\n",
    "        return (x - 2) ** 2 + 1"
   ]
  },
  {
   "cell_type": "code",
   "execution_count": null,
   "metadata": {},
   "outputs": [],
   "source": [
    "n = int(input())\n",
    "mydict = {}\n",
    "mylist = []\n",
    "for i in range(0, n):\n",
    "    number = int(input())\n",
    "    if number not in mydict.keys():\n",
    "        mydict[number] = f(number)\n",
    "        mylist.append(mydict[number])\n",
    "    else:\n",
    "        mylist.append(mydict[number])\n",
    "#print(mylist)\n",
    "for element in mylist:\n",
    "    print(element)"
   ]
  },
  {
   "cell_type": "code",
   "execution_count": null,
   "metadata": {},
   "outputs": [],
   "source": []
  },
  {
   "cell_type": "code",
   "execution_count": null,
   "metadata": {},
   "outputs": [],
   "source": []
  }
 ],
 "metadata": {
  "kernelspec": {
   "display_name": "Python 3",
   "language": "python",
   "name": "python3"
  },
  "language_info": {
   "codemirror_mode": {
    "name": "ipython",
    "version": 3
   },
   "file_extension": ".py",
   "mimetype": "text/x-python",
   "name": "python",
   "nbconvert_exporter": "python",
   "pygments_lexer": "ipython3",
   "version": "3.7.6"
  },
  "latex_envs": {
   "LaTeX_envs_menu_present": true,
   "autoclose": false,
   "autocomplete": true,
   "bibliofile": "biblio.bib",
   "cite_by": "apalike",
   "current_citInitial": 1,
   "eqLabelWithNumbers": true,
   "eqNumInitial": 1,
   "hotkeys": {
    "equation": "Ctrl-E",
    "itemize": "Ctrl-I"
   },
   "labels_anchors": false,
   "latex_user_defs": false,
   "report_style_numbering": false,
   "user_envs_cfg": false
  }
 },
 "nbformat": 4,
 "nbformat_minor": 4
}
